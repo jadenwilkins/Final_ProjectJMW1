{
 "cells": [
  {
   "cell_type": "code",
   "execution_count": 61,
   "id": "5c7699db",
   "metadata": {},
   "outputs": [
    {
     "name": "stdout",
     "output_type": "stream",
     "text": [
      "How many grades do you want to calculate? 1\n",
      "\n",
      "Enter the current grade: 88\n",
      "Enter the desired grade: 89.5\n",
      "Enter the final exam weight (as a decimal, e.g. 0.2 for 20%): .2\n",
      "\n",
      "You will need a  96 % on the final exam to get your desired grade.\n"
     ]
    }
   ],
   "source": [
    "import math\n",
    "\n",
    "class final_grade():\n",
    "    def __init__(self, current_grade, final_weight, desired_grade):\n",
    "        self.current_grade=current_grade\n",
    "        self.final_weight=final_weight\n",
    "        self.desired_grade=desired_grade\n",
    "    \n",
    "    def calculate_final_grade(self):\n",
    "        #find weight of current grade\n",
    "        current_grade_weight= 1-self.final_weight\n",
    "        \n",
    "        \n",
    "        # IF THERE ARE LOGICAL ERRORS IT IS LIKELY IN EXAM_GRADE\n",
    "        unfinished_exam_grade = self.desired_grade-(current_grade_weight * self.current_grade)\n",
    "        \n",
    "        exam_grade = unfinished_exam_grade/self.final_weight\n",
    "        return exam_grade\n",
    "# Create an empty list\n",
    "grade_calculators = []\n",
    "\n",
    "\n",
    "num_grades = int(input(\"How many grades do you want to calculate? \"))\n",
    "\n",
    "for i in range(num_grades):\n",
    "        current_grade = float(input(f\"\\nEnter the current grade: \"))\n",
    "        desired_grade = float(input(f\"Enter the desired grade: \"))\n",
    "        final_exam_weight = float(input(f\"Enter the final exam weight (as a decimal, e.g. 0.2 for 20%): \"))\n",
    "        \n",
    "\n",
    "  \n",
    "        grade_calculator = final_grade(current_grade, final_exam_weight, desired_grade)\n",
    "\n",
    "  \n",
    "        grade_calculators.append(grade_calculator)\n",
    "\n",
    "    \n",
    "#last for loop to print result\n",
    "for grade_calculator in grade_calculators:\n",
    "        final_grade = grade_calculator.calculate_final_grade()\n",
    "\n",
    "        print(\"\\nYou will need a \", math.ceil(final_grade),\"% on the final exam to get your desired grade.\")\n",
    "        \n",
    "\n",
    "\n"
   ]
  },
  {
   "cell_type": "code",
   "execution_count": null,
   "id": "f79e77af",
   "metadata": {},
   "outputs": [],
   "source": []
  }
 ],
 "metadata": {
  "kernelspec": {
   "display_name": "Python 3 (ipykernel)",
   "language": "python",
   "name": "python3"
  },
  "language_info": {
   "codemirror_mode": {
    "name": "ipython",
    "version": 3
   },
   "file_extension": ".py",
   "mimetype": "text/x-python",
   "name": "python",
   "nbconvert_exporter": "python",
   "pygments_lexer": "ipython3",
   "version": "3.9.12"
  }
 },
 "nbformat": 4,
 "nbformat_minor": 5
}
